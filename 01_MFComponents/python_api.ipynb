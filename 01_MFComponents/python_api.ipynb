{
 "cells": [
  {
   "attachments": {},
   "cell_type": "markdown",
   "metadata": {},
   "source": [
    "First open a file in inventor, then you can access the file. Use the debugger to explore the doc objection and see what you can do.\n",
    "\n",
    "also a model of the API object is here: \n",
    "https://help.autodesk.com/cloudhelp/2024/ENU/Inventor-API/images/FullObjectModel.png"
   ]
  },
  {
   "cell_type": "code",
   "execution_count": null,
   "metadata": {},
   "outputs": [],
   "source": [
    "# Import the necessary modules\n",
    "import win32com.client\n",
    "# Create an instance of the Inventor application\n",
    "invApp = win32com.client.Dispatch(\"Inventor.Application\")\n",
    "\n",
    "# Get the active document\n",
    "doc = invApp.ActiveEditObject\n",
    "\n",
    "\n",
    "# Get the component definition of the document\n",
    "compDef = doc.ComponentDefinition\n",
    "\n",
    "# Loop through the features of the component definition and print their names\n",
    "for feature in compDef.Features:\n",
    "    print(feature.Name)"
   ]
  }
 ],
 "metadata": {
  "kernelspec": {
   "display_name": "Python 3",
   "language": "python",
   "name": "python3"
  },
  "language_info": {
   "codemirror_mode": {
    "name": "ipython",
    "version": 3
   },
   "file_extension": ".py",
   "mimetype": "text/x-python",
   "name": "python",
   "nbconvert_exporter": "python",
   "pygments_lexer": "ipython3",
   "version": "3.11.3"
  },
  "orig_nbformat": 4
 },
 "nbformat": 4,
 "nbformat_minor": 2
}
